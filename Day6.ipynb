{
  "nbformat": 4,
  "nbformat_minor": 0,
  "metadata": {
    "colab": {
      "provenance": [],
      "authorship_tag": "ABX9TyNuVIPKfE+MEO052z7p2RaT"
    },
    "kernelspec": {
      "name": "python3",
      "display_name": "Python 3"
    },
    "language_info": {
      "name": "python"
    }
  },
  "cells": [
    {
      "cell_type": "markdown",
      "source": [
        "# Reeborgs's World"
      ],
      "metadata": {
        "id": "mMQT4va6S2Ey"
      }
    },
    {
      "cell_type": "markdown",
      "source": [
        "https://reeborg.ca/reeborg.html?lang=en&mode=python&menu=worlds%2Fmenus%2Freeborg_intro_en.json&name=Hurdle%201&url=worlds%2Ftutorial_en%2Fhurdle1.json"
      ],
      "metadata": {
        "id": "8RfHyCIBTJ1Q"
      }
    },
    {
      "cell_type": "code",
      "execution_count": null,
      "metadata": {
        "id": "qof9_bLDSoab"
      },
      "outputs": [],
      "source": [
        "def jump():\n",
        "    move()\n",
        "    turn_left()\n",
        "    move()\n",
        "    turn_right()\n",
        "    move()\n",
        "    turn_right()\n",
        "    move()\n",
        "    turn_left()\n",
        "\n",
        "def turn_right():\n",
        "    turn_left()\n",
        "    turn_left()\n",
        "    turn_left()\n",
        "\n",
        "for i in range(6) :\n",
        "    jump()"
      ]
    },
    {
      "cell_type": "markdown",
      "source": [
        "https://reeborg.ca/reeborg.html?lang=en&mode=python&menu=worlds%2Fmenus%2Freeborg_intro_en.json&name=Hurdle%202&url=worlds%2Ftutorial_en%2Fhurdle2.json"
      ],
      "metadata": {
        "id": "rG1XdgKAdw5R"
      }
    },
    {
      "cell_type": "code",
      "source": [
        "def jump():\n",
        "    move()\n",
        "    turn_left()\n",
        "    move()\n",
        "    turn_right()\n",
        "    move()\n",
        "    turn_right()\n",
        "    move()\n",
        "    turn_left()\n",
        "\n",
        "def turn_right():\n",
        "    turn_left()\n",
        "    turn_left()\n",
        "    turn_left()\n",
        "\n",
        "while at_goal() == False :\n",
        "    jump()"
      ],
      "metadata": {
        "id": "f8x4pyZmdzML"
      },
      "execution_count": null,
      "outputs": []
    },
    {
      "cell_type": "markdown",
      "source": [
        "https://reeborg.ca/reeborg.html?lang=en&mode=python&menu=worlds%2Fmenus%2Freeborg_intro_en.json&name=Hurdle%203&url=worlds%2Ftutorial_en%2Fhurdle3.json"
      ],
      "metadata": {
        "id": "639m-dbFlScP"
      }
    },
    {
      "cell_type": "code",
      "source": [
        "def jump():\n",
        "    move()\n",
        "    turn_left()\n",
        "    move()\n",
        "    turn_right()\n",
        "    move()\n",
        "    turn_right()\n",
        "    move()\n",
        "    turn_left()\n",
        "\n",
        "def turn_right():\n",
        "    turn_left()\n",
        "    turn_left()\n",
        "    turn_left()\n",
        "\n",
        "def turn_around():\n",
        "    turn_left()\n",
        "    turn_left()\n",
        "\n",
        "while not at_goal() :\n",
        "    if front_is_clear() :\n",
        "        move()\n",
        "    elif wall_in_front() :\n",
        "        turn_left()\n",
        "        move()\n",
        "        turn_right()\n",
        "        move()\n",
        "        turn_right()\n",
        "        move()\n",
        "        turn_left()\n",
        "\n"
      ],
      "metadata": {
        "id": "oVDOzgX9lS7_"
      },
      "execution_count": null,
      "outputs": []
    },
    {
      "cell_type": "markdown",
      "source": [
        "https://reeborg.ca/reeborg.html?lang=en&mode=python&menu=worlds%2Fmenus%2Freeborg_intro_en.json&name=Hurdle%204&url=worlds%2Ftutorial_en%2Fhurdle4.json"
      ],
      "metadata": {
        "id": "Pc_q1Dlm1WV9"
      }
    },
    {
      "cell_type": "code",
      "source": [
        "def jump():\n",
        "    up()\n",
        "    turn_right()\n",
        "    move()\n",
        "    down()\n",
        "\n",
        "def up():\n",
        "    turn_left()\n",
        "    while not right_is_clear() :\n",
        "        move()\n",
        "        \n",
        "def down():\n",
        "    turn_right()\n",
        "    while front_is_clear() :\n",
        "        move()\n",
        "    turn_left()\n",
        "\n",
        "def turn_right():\n",
        "    turn_left()\n",
        "    turn_left()\n",
        "    turn_left()\n",
        "\n",
        "while not at_goal() :\n",
        "    if front_is_clear() :\n",
        "        move()\n",
        "    elif wall_in_front() :\n",
        "        jump()"
      ],
      "metadata": {
        "id": "U1_UY-ZN1W7-"
      },
      "execution_count": null,
      "outputs": []
    },
    {
      "cell_type": "markdown",
      "source": [
        "# Final Project"
      ],
      "metadata": {
        "id": "R0baYBxNn8yD"
      }
    },
    {
      "cell_type": "markdown",
      "source": [
        "https://reeborg.ca/reeborg.html?lang=en&mode=python&menu=worlds%2Fmenus%2Freeborg_intro_en.json&name=Maze&url=worlds%2Ftutorial_en%2Fmaze1.json"
      ],
      "metadata": {
        "id": "6RiNhWBXn-iT"
      }
    },
    {
      "cell_type": "code",
      "source": [
        "\n",
        "def turn_right():\n",
        "    turn_left()\n",
        "    turn_left()\n",
        "    turn_left()\n",
        "\n",
        "def check():\n",
        "    if right_is_clear() :\n",
        "        turn_right()\n",
        "        move()\n",
        "    elif front_is_clear() :\n",
        "        move()\n",
        "    elif wall_in_front() and wall_on_right() :\n",
        "        turn_left()\n",
        "    \n",
        "        \n",
        "while not at_goal() :\n",
        "    check()"
      ],
      "metadata": {
        "id": "yEn6neGnn-Tt"
      },
      "execution_count": null,
      "outputs": []
    }
  ]
}