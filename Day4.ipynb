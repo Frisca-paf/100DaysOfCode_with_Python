{
  "nbformat": 4,
  "nbformat_minor": 0,
  "metadata": {
    "colab": {
      "provenance": [],
      "authorship_tag": "ABX9TyMzVbEmKq8d9XY5szOdnlcE",
      "include_colab_link": true
    },
    "kernelspec": {
      "name": "python3",
      "display_name": "Python 3"
    },
    "language_info": {
      "name": "python"
    }
  },
  "cells": [
    {
      "cell_type": "markdown",
      "metadata": {
        "id": "view-in-github",
        "colab_type": "text"
      },
      "source": [
        "<a href=\"https://colab.research.google.com/github/Frisca-paf/100DaysOfCode_with_Python/blob/main/Day4.ipynb\" target=\"_parent\"><img src=\"https://colab.research.google.com/assets/colab-badge.svg\" alt=\"Open In Colab\"/></a>"
      ]
    },
    {
      "cell_type": "markdown",
      "source": [
        "# Head or Tails"
      ],
      "metadata": {
        "id": "fAvDqzb3UaN3"
      }
    },
    {
      "cell_type": "code",
      "execution_count": 4,
      "metadata": {
        "colab": {
          "base_uri": "https://localhost:8080/"
        },
        "id": "eKiijP1dUUpR",
        "outputId": "f8c31aea-f7fd-4770-82eb-e42890998798"
      },
      "outputs": [
        {
          "output_type": "stream",
          "name": "stdout",
          "text": [
            "Tails\n"
          ]
        }
      ],
      "source": [
        "import random as rand\n",
        "score = rand.randint(0,1)\n",
        "if score == 1 :\n",
        "  print(\"Heads\")\n",
        "else : \n",
        "  print(\"Tails\")"
      ]
    },
    {
      "cell_type": "markdown",
      "source": [
        "# Banker Roulette"
      ],
      "metadata": {
        "id": "e54i0GCpVaPU"
      }
    },
    {
      "cell_type": "code",
      "source": [
        "names_string = input(\"Give me everybody's names, separated by a comma. \")\n",
        "names = names_string.split(\", \")\n",
        "range = len(names)-1\n",
        "score = rand.randint(0,range)\n",
        "print(f\"{names[score]} is going to buy the meal today!\")\n"
      ],
      "metadata": {
        "colab": {
          "base_uri": "https://localhost:8080/"
        },
        "id": "tf89wB0OYyny",
        "outputId": "54790b57-2bab-4c15-e4cc-f9de31da33dd"
      },
      "execution_count": 10,
      "outputs": [
        {
          "output_type": "stream",
          "name": "stdout",
          "text": [
            "Give me everybody's names, separated by a comma. cy, keshi, niki, Rb\n",
            "cy is going to buy the meal today!\n"
          ]
        }
      ]
    },
    {
      "cell_type": "code",
      "source": [
        "fruits = [\"Strawberries\", \"Nectarines\", \"Apples\", \"Grapes\", \"Peaches\", \"Cherries\", \"Pears\"]\n",
        "vegetables = [\"Spinach\", \"Kale\", \"Tomatoes\", \"Celery\", \"Potatoes\"]\n",
        " \n",
        "dirty_dozen = [fruits, vegetables]\n",
        " \n",
        "print(dirty_dozen[0][1])"
      ],
      "metadata": {
        "colab": {
          "base_uri": "https://localhost:8080/"
        },
        "id": "KDXW772-eTa8",
        "outputId": "c4ea449c-71c4-4005-f50c-407c416abd97"
      },
      "execution_count": 12,
      "outputs": [
        {
          "output_type": "stream",
          "name": "stdout",
          "text": [
            "Nectarines\n"
          ]
        }
      ]
    },
    {
      "cell_type": "markdown",
      "source": [
        "# Treasure Map"
      ],
      "metadata": {
        "id": "5i9VYGpTfYWN"
      }
    },
    {
      "cell_type": "code",
      "source": [
        "row1 = [\"⬜️\",\"️⬜️\",\"️⬜️\"]\n",
        "row2 = [\"⬜️\",\"⬜️\",\"️⬜️\"]\n",
        "row3 = [\"⬜️️\",\"⬜️️\",\"⬜️️\"]\n",
        "map = [row1, row2, row3]\n",
        "print(f\"{row1}\\n{row2}\\n{row3}\")\n",
        "position = input(\"Where do you want to put the treasure? \")\n",
        "column = int(position[0])-1\n",
        "row    = int(position[1])-1\n",
        "if row == 0 :\n",
        "  row1[column] = \"X\"\n",
        "elif row == 1 :\n",
        "  row2[column] = \"X\"\n",
        "elif row == 2 :\n",
        "  row3[column] = \"X\"\n",
        "else :\n",
        "  print(\"Error\")\n",
        "\n",
        "print(f\"{row1}\\n{row2}\\n{row3}\")"
      ],
      "metadata": {
        "colab": {
          "base_uri": "https://localhost:8080/"
        },
        "id": "sm5TKbfvfamH",
        "outputId": "adefe0ec-57ab-4314-f8ee-0510ebb4774c"
      },
      "execution_count": 27,
      "outputs": [
        {
          "output_type": "stream",
          "name": "stdout",
          "text": [
            "['⬜️', '️⬜️', '️⬜️']\n",
            "['⬜️', '⬜️', '️⬜️']\n",
            "['⬜️️', '⬜️️', '⬜️️']\n",
            "Where do you want to put the treasure? 23\n",
            "['⬜️', '️⬜️', '️⬜️']\n",
            "['⬜️', '⬜️', '️⬜️']\n",
            "['⬜️️', 'X', '⬜️️']\n"
          ]
        }
      ]
    },
    {
      "cell_type": "markdown",
      "source": [
        "# Rock Papper Scissors"
      ],
      "metadata": {
        "id": "RAAbHi3nj5pl"
      }
    },
    {
      "cell_type": "code",
      "source": [
        "rock = '''\n",
        "    _______\n",
        "---'   ____)\n",
        "      (_____)\n",
        "      (_____)\n",
        "      (____)\n",
        "---.__(___)\n",
        "'''\n",
        "\n",
        "paper = '''\n",
        "    _______\n",
        "---'   ____)____\n",
        "          ______)\n",
        "          _______)\n",
        "         _______)\n",
        "---.__________)\n",
        "'''\n",
        "\n",
        "scissors = '''\n",
        "    _______\n",
        "---'   ____)____\n",
        "          ______)\n",
        "       __________)\n",
        "      (____)\n",
        "---.__(___)\n",
        "'''\n",
        "play = [rock, paper, scissors]\n",
        "\n",
        "while True :\n",
        "  condition = str(input(\"Do you wanna play rock, paper,scissors? Y or N \").lower())\n",
        "  if condition == \"y\" :\n",
        "    user = int(input(\"Input your number to play scissors: 0 for rock, 1 for paper, 2 for scissors -> \"))\n",
        "    condition = True \n",
        "    print(play[user])\n",
        "    print(\"Computer choose :\")\n",
        "    comp = rand.randint(0,2)\n",
        "    print(play[comp])\n",
        "\n",
        "#Logic \n",
        "    if user > comp :\n",
        "      if ((user-comp)==1) :\n",
        "        print(\"\\nUser Win!\")\n",
        "      else :\n",
        "        print(\"\\nComputer Win!\")\n",
        "    elif user == comp : \n",
        "        print(\"\\nDraw again!\")\n",
        "    else :\n",
        "      print(\"\\nComputer win\")\n",
        "    break\n",
        "  \n",
        "  else :\n",
        "    print(\"See you next time!\")\n",
        "    break\n",
        "\n",
        "\n",
        "\n",
        "\n",
        "\n",
        "\n",
        "\n",
        "\n",
        "\n"
      ],
      "metadata": {
        "colab": {
          "base_uri": "https://localhost:8080/"
        },
        "id": "x_xhYoDgj5Pk",
        "outputId": "dbc00221-4a4f-4dce-88cc-71c26cdbe626"
      },
      "execution_count": 46,
      "outputs": [
        {
          "output_type": "stream",
          "name": "stdout",
          "text": [
            "Do you wanna play rock, paper,scissors? Y or N y\n",
            "Input your number to play scissors: 0 for rock, 1 for paper, 2 for scissors -> 2\n",
            "\n",
            "    _______\n",
            "---'   ____)____\n",
            "          ______)\n",
            "       __________)\n",
            "      (____)\n",
            "---.__(___)\n",
            "\n",
            "Computer choose :\n",
            "\n",
            "    _______\n",
            "---'   ____)\n",
            "      (_____)\n",
            "      (_____)\n",
            "      (____)\n",
            "---.__(___)\n",
            "\n",
            "\n",
            "Computer Win!\n"
          ]
        }
      ]
    }
  ]
}