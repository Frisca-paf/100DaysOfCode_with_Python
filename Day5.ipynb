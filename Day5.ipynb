{
  "nbformat": 4,
  "nbformat_minor": 0,
  "metadata": {
    "colab": {
      "provenance": [],
      "authorship_tag": "ABX9TyPF13NTruKg4ey2kCcWG2GO",
      "include_colab_link": true
    },
    "kernelspec": {
      "name": "python3",
      "display_name": "Python 3"
    },
    "language_info": {
      "name": "python"
    }
  },
  "cells": [
    {
      "cell_type": "markdown",
      "metadata": {
        "id": "view-in-github",
        "colab_type": "text"
      },
      "source": [
        "<a href=\"https://colab.research.google.com/github/Frisca-paf/100DaysOfCode_with_Python/blob/main/Day5.ipynb\" target=\"_parent\"><img src=\"https://colab.research.google.com/assets/colab-badge.svg\" alt=\"Open In Colab\"/></a>"
      ]
    },
    {
      "cell_type": "markdown",
      "source": [
        "# Average Height"
      ],
      "metadata": {
        "id": "H-snZNLiMhrd"
      }
    },
    {
      "cell_type": "code",
      "execution_count": null,
      "metadata": {
        "colab": {
          "base_uri": "https://localhost:8080/"
        },
        "id": "BTKDrK8kKKl3",
        "outputId": "858e876f-48c2-46c2-e8e6-1f91d1a72741"
      },
      "outputs": [
        {
          "output_type": "stream",
          "name": "stdout",
          "text": [
            "Input a list of student heights 156 178 165 171 187\n",
            "171\n"
          ]
        }
      ],
      "source": [
        "student_height = input(\"Input a list of student heights \")\n",
        "heights = student_height.split(\" \")\n",
        "sum = 0\n",
        "for height in heights :\n",
        "  height = int(height)\n",
        "  sum += height\n",
        "\n",
        "#average\n",
        "average_student = sum / int(len(heights))\n",
        "print(round(average_student))"
      ]
    },
    {
      "cell_type": "markdown",
      "source": [
        "# Highest Score"
      ],
      "metadata": {
        "id": "OhMBSmy3OW3R"
      }
    },
    {
      "cell_type": "code",
      "source": [
        "student_score = input(\"Input a list of student scores \").split()\n",
        "temp = 0\n",
        "for score in student_score :\n",
        "  score = int(score)\n",
        "  if score > temp :\n",
        "    temp = score\n",
        "  else : \n",
        "    temp = temp\n",
        "\n",
        "print(f\"The highest score in the class is: {temp}\")"
      ],
      "metadata": {
        "colab": {
          "base_uri": "https://localhost:8080/"
        },
        "id": "7sL9qilvOYzV",
        "outputId": "010bb3bb-3232-4eea-b53a-11fd9c5ea190"
      },
      "execution_count": null,
      "outputs": [
        {
          "output_type": "stream",
          "name": "stdout",
          "text": [
            "Input a list of student scores 78 65 89 86 55 91 64 89\n",
            "The highest score in the class is: 91\n"
          ]
        }
      ]
    },
    {
      "cell_type": "markdown",
      "source": [
        "# Adding Even Numbers"
      ],
      "metadata": {
        "id": "zDMEUNFxQNZ8"
      }
    },
    {
      "cell_type": "code",
      "source": [
        "sum = 0\n",
        "for number in range(1, 101) :\n",
        "  if number % 2 == 0 :\n",
        "    sum += number\n",
        "  \n",
        "print(sum)"
      ],
      "metadata": {
        "colab": {
          "base_uri": "https://localhost:8080/"
        },
        "id": "u9ZrGDZ9Rd9D",
        "outputId": "b20fd1b5-ed28-457d-a440-651725c7d908"
      },
      "execution_count": null,
      "outputs": [
        {
          "output_type": "stream",
          "name": "stdout",
          "text": [
            "2550\n"
          ]
        }
      ]
    },
    {
      "cell_type": "markdown",
      "source": [
        "# FizzBuzz"
      ],
      "metadata": {
        "id": "TeXOygPDSrrz"
      }
    },
    {
      "cell_type": "code",
      "source": [
        "for number in range(1,101) :\n",
        "  if number % 3 == 0 and number % 5 == 0:\n",
        "    print(\"FizzBuzz\")\n",
        "  elif number % 3 == 0 :\n",
        "    print(\"Fizz\")\n",
        "  elif number % 5 == 0 :\n",
        "    print(\"Buzz\")\n",
        "  else :\n",
        "    print(number)"
      ],
      "metadata": {
        "colab": {
          "base_uri": "https://localhost:8080/"
        },
        "id": "Jm5tFC5SSti7",
        "outputId": "7f7cb5fc-8870-4938-cda1-03525414a4b8"
      },
      "execution_count": null,
      "outputs": [
        {
          "output_type": "stream",
          "name": "stdout",
          "text": [
            "1\n",
            "2\n",
            "Fizz\n",
            "4\n",
            "Buzz\n",
            "Fizz\n",
            "7\n",
            "8\n",
            "Fizz\n",
            "Buzz\n",
            "11\n",
            "Fizz\n",
            "13\n",
            "14\n",
            "FizzBuzz\n",
            "16\n",
            "17\n",
            "Fizz\n",
            "19\n",
            "Buzz\n",
            "Fizz\n",
            "22\n",
            "23\n",
            "Fizz\n",
            "Buzz\n",
            "26\n",
            "Fizz\n",
            "28\n",
            "29\n",
            "FizzBuzz\n",
            "31\n",
            "32\n",
            "Fizz\n",
            "34\n",
            "Buzz\n",
            "Fizz\n",
            "37\n",
            "38\n",
            "Fizz\n",
            "Buzz\n",
            "41\n",
            "Fizz\n",
            "43\n",
            "44\n",
            "FizzBuzz\n",
            "46\n",
            "47\n",
            "Fizz\n",
            "49\n",
            "Buzz\n",
            "Fizz\n",
            "52\n",
            "53\n",
            "Fizz\n",
            "Buzz\n",
            "56\n",
            "Fizz\n",
            "58\n",
            "59\n",
            "FizzBuzz\n",
            "61\n",
            "62\n",
            "Fizz\n",
            "64\n",
            "Buzz\n",
            "Fizz\n",
            "67\n",
            "68\n",
            "Fizz\n",
            "Buzz\n",
            "71\n",
            "Fizz\n",
            "73\n",
            "74\n",
            "FizzBuzz\n",
            "76\n",
            "77\n",
            "Fizz\n",
            "79\n",
            "Buzz\n",
            "Fizz\n",
            "82\n",
            "83\n",
            "Fizz\n",
            "Buzz\n",
            "86\n",
            "Fizz\n",
            "88\n",
            "89\n",
            "FizzBuzz\n",
            "91\n",
            "92\n",
            "Fizz\n",
            "94\n",
            "Buzz\n",
            "Fizz\n",
            "97\n",
            "98\n",
            "Fizz\n",
            "Buzz\n"
          ]
        }
      ]
    },
    {
      "cell_type": "markdown",
      "source": [
        "# Password Generator"
      ],
      "metadata": {
        "id": "uIu8zfnvTtR4"
      }
    },
    {
      "cell_type": "code",
      "source": [
        "import random\n",
        "import string \n",
        "\n",
        "def rand_pass(l_size, c_size, n_size) :\n",
        "  symbols = ['!', '#', '$', '%', '&', '(', ')', '*', '+']\n",
        "  \n",
        "  #choose random item in ascii lettern in size loop\n",
        "  generate_l = ([random.choice(string.ascii_letters) for n in range(l_size)])\n",
        "  generate_c = ([random.choice(symbols) for n in range(c_size)])\n",
        "  generate_n = ([random.choice(string.digits) for n in range(n_size)])\n",
        "  \n",
        "  #for make easier to join item\n",
        "  for x in generate_c :\n",
        "    generate_l.append(x)\n",
        "  \n",
        "  for y in generate_n :\n",
        "    generate_l.append(y)\n",
        "\n",
        "  #for making list shuffle\n",
        "  random.shuffle(generate_l)\n",
        "\n",
        "  #for convert list into string\n",
        "  password = ''.join(generate_l)\n",
        "  \n",
        "  print(f\"\\nYour password is\\n{password}\")\n",
        "\n",
        "#-------------------------------------------------------------------------------\n",
        "print(\"Welcome to the Password Generator\")\n",
        "l = int(input(\"How many letter would you like in your password? \"))\n",
        "c = int(input(\"How many symbol would you like? \"))\n",
        "n = int(input(\"How many number would you like? \"))\n",
        "\n",
        "rand_pass(l,c,n)\n"
      ],
      "metadata": {
        "colab": {
          "base_uri": "https://localhost:8080/"
        },
        "id": "0u3HYbjlTzSm",
        "outputId": "d9b82739-66a3-42e9-c484-592d34ceb40e"
      },
      "execution_count": null,
      "outputs": [
        {
          "output_type": "stream",
          "name": "stdout",
          "text": [
            "Welcome to the Password Generator\n",
            "How many letter would you like in your password? 12\n",
            "How many symbol would you like? 3\n",
            "How many number would you like? 12\n",
            "\n",
            "Your password is\n",
            "80!2iMAI5h5#n%5Riis15l0521b\n"
          ]
        }
      ]
    },
    {
      "cell_type": "code",
      "source": [
        "import random\n",
        "import string \n",
        "\n",
        "def rand_pass(l_size, c_size, n_size) :\n",
        "  symbols = ['!', '#', '$', '%', '&', '(', ')', '*', '+']\n",
        "  password_list = []\n",
        "  \n",
        "  #choose random item in ascii lettern in size loop\n",
        "  for n in range(l_size) :\n",
        "    password_list.append(random.choice(string.ascii_letters))\n",
        "\n",
        "  for n in range(c_size) :\n",
        "    password_list.append(random.choice(symbols))\n",
        "\n",
        "  for n in range(n_size) :\n",
        "    password_list.append(random.choice(string.digits))\n",
        "\n",
        "  #for making list shuffle\n",
        "  random.shuffle(password_list)\n",
        "\n",
        "  #for convert list into string\n",
        "  password = ''.join(password_list)\n",
        "  \n",
        "  print(f\"\\nYour password is\\n{password}\")\n",
        "\n",
        "#-------------------------------------------------------------------------------\n",
        "print(\"Welcome to the Password Generator\")\n",
        "l = int(input(\"How many letter would you like in your password? \"))\n",
        "c = int(input(\"How many symbol would you like? \"))\n",
        "n = int(input(\"How many number would you like? \"))\n",
        "\n",
        "rand_pass(l,c,n)\n"
      ],
      "metadata": {
        "colab": {
          "base_uri": "https://localhost:8080/"
        },
        "id": "PKpncj8Ul-Gk",
        "outputId": "9e4f48a7-bf12-4b1a-f79b-cbb1e6ff8b50"
      },
      "execution_count": 79,
      "outputs": [
        {
          "output_type": "stream",
          "name": "stdout",
          "text": [
            "Welcome to the Password Generator\n",
            "How many letter would you like in your password? 12\n",
            "How many symbol would you like? 3\n",
            "How many number would you like? 9\n",
            "\n",
            "Your password is\n",
            "5)4ol#M4oewJU3U1028h0Zm%\n"
          ]
        }
      ]
    }
  ]
}