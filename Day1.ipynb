{
  "nbformat": 4,
  "nbformat_minor": 0,
  "metadata": {
    "colab": {
      "provenance": [],
      "authorship_tag": "ABX9TyPVKofPqx/hpuv4jAzceu3U",
      "include_colab_link": true
    },
    "kernelspec": {
      "name": "python3",
      "display_name": "Python 3"
    },
    "language_info": {
      "name": "python"
    }
  },
  "cells": [
    {
      "cell_type": "markdown",
      "metadata": {
        "id": "view-in-github",
        "colab_type": "text"
      },
      "source": [
        "<a href=\"https://colab.research.google.com/github/Frisca-paf/100DaysOfCode_with_Python/blob/main/Day1.ipynb\" target=\"_parent\"><img src=\"https://colab.research.google.com/assets/colab-badge.svg\" alt=\"Open In Colab\"/></a>"
      ]
    },
    {
      "cell_type": "code",
      "execution_count": 1,
      "metadata": {
        "colab": {
          "base_uri": "https://localhost:8080/"
        },
        "id": "zGCcNJZvcZlZ",
        "outputId": "cbc21569-52f0-485e-d5c2-46494d1b8d2a"
      },
      "outputs": [
        {
          "output_type": "stream",
          "name": "stdout",
          "text": [
            "Do you want to know your Brand Name?\n",
            "Yes\n",
            "Hello Wellcome to MyApp\n",
            "Where the city do you grew up?\n",
            "Jakarta\n",
            "What is your pet name?\n",
            "Celeng\n",
            "Your brand name isJakartaCeleng\n",
            "\n",
            "Do you want to know your Brand Name?\n",
            "no\n",
            "See You next Time\n"
          ]
        }
      ],
      "source": [
        "while True:\n",
        "    print(\"Do you want to know your Brand Name?\")\n",
        "    condition = input()\n",
        "    if condition == \"Yes\":\n",
        "        #1. Create a greeting for your program.\n",
        "        print(\"Hello Wellcome to MyApp\")\n",
        "        #2. Ask the user for the city that they grew up in.\n",
        "        print(\"Where the city do you grew up?\")\n",
        "        city = input()\n",
        "        #3. Ask the user for the name of a pet.\n",
        "        print(\"What is your pet name?\")\n",
        "        pet = input()\n",
        "        #4. Combine the name of their city and pet and show them their band name.\n",
        "        combine_name = city + pet\n",
        "        #5. Make sure the input cursor shows on a new line:\n",
        "        print(\"Your brand name is\" + combine_name + \"\\n\")\n",
        "# Solution: https://replit.com/@appbrewery/band-name-generator-end\n",
        "    else:\n",
        "        print(\"See You next Time\")\n",
        "        break\n"
      ]
    },
    {
      "cell_type": "code",
      "source": [
        "print(\"What is your name?\")\n",
        "nama = input()\n",
        "print(len(nama))"
      ],
      "metadata": {
        "colab": {
          "base_uri": "https://localhost:8080/"
        },
        "id": "j6Tgp9tEluvi",
        "outputId": "c492a29b-be67-4dda-d5f1-230eb31709b8"
      },
      "execution_count": 1,
      "outputs": [
        {
          "output_type": "stream",
          "name": "stdout",
          "text": [
            "What is your name?\n",
            "Frisca P\n",
            "8\n"
          ]
        }
      ]
    }
  ]
}