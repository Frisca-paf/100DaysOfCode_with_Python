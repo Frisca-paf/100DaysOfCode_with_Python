{
  "nbformat": 4,
  "nbformat_minor": 0,
  "metadata": {
    "colab": {
      "provenance": [],
      "authorship_tag": "ABX9TyPdT4LNapgCtro2MZbWWK71",
      "include_colab_link": true
    },
    "kernelspec": {
      "name": "python3",
      "display_name": "Python 3"
    },
    "language_info": {
      "name": "python"
    }
  },
  "cells": [
    {
      "cell_type": "markdown",
      "metadata": {
        "id": "view-in-github",
        "colab_type": "text"
      },
      "source": [
        "<a href=\"https://colab.research.google.com/github/Frisca-paf/100DaysOfCode_with_Python/blob/main/Day3.ipynb\" target=\"_parent\"><img src=\"https://colab.research.google.com/assets/colab-badge.svg\" alt=\"Open In Colab\"/></a>"
      ]
    },
    {
      "cell_type": "markdown",
      "source": [
        "# Leap Year Detection"
      ],
      "metadata": {
        "id": "EP-GZbtwcgAj"
      }
    },
    {
      "cell_type": "code",
      "execution_count": null,
      "metadata": {
        "colab": {
          "base_uri": "https://localhost:8080/"
        },
        "id": "XeYps3Zfbg3k",
        "outputId": "e0e296ed-bf89-4bdc-898f-a8ef04ba2e7c"
      },
      "outputs": [
        {
          "output_type": "stream",
          "name": "stdout",
          "text": [
            "Which year do you want to check? 2010\n",
            "Not Leap\n"
          ]
        }
      ],
      "source": [
        "\n",
        "year = int(input(\"Which year do you want to check? \"))\n",
        "if year % 4 == 0 :\n",
        "  if year % 100 == 0 :\n",
        "    if year % 400 == 0 :\n",
        "      print(\"Leap year\")\n",
        "    else :\n",
        "      print(\"Not Leap year\")\n",
        "  else : \n",
        "    print(\"Leap year\")\n",
        "else : \n",
        "  print(\"Not Leap year\")"
      ]
    },
    {
      "cell_type": "markdown",
      "source": [
        "# Ticketing Detection"
      ],
      "metadata": {
        "id": "fet91B1zzQQL"
      }
    },
    {
      "cell_type": "code",
      "source": [
        "bill = 0\n",
        "height = float(input(\"Input your height please! (in cm) \"))\n",
        "\n",
        "if height > 120 :\n",
        "  age = int(input(\"Input your age please! \"))\n",
        "  if age < 12 : \n",
        "    bill += 5\n",
        "  elif 12 < age < 18 :\n",
        "    bill += 7\n",
        "  elif 45 < age < 55 :\n",
        "    bill += 0\n",
        "  else :\n",
        "    bill += 12\n",
        "\n",
        "  photos = str(input(\"Do you want to take photos? pleas answer with Y or N!\"))\n",
        "  if photos.upper() == \"Y\":\n",
        "    bill += 3\n",
        "  else :\n",
        "    bill += 0\n",
        "  \n",
        "  print(f\"Your total bill is ${bill}\")\n",
        "\n",
        "else : \n",
        "  print(\"Sorry you can't ride\")\n"
      ],
      "metadata": {
        "colab": {
          "base_uri": "https://localhost:8080/"
        },
        "id": "rqnUYICzzS5e",
        "outputId": "81fcb5e9-8c4c-4344-b238-2445ede52aab"
      },
      "execution_count": null,
      "outputs": [
        {
          "output_type": "stream",
          "name": "stdout",
          "text": [
            "Input your height please! (in cm) 150\n",
            "Input your age please! 20\n",
            "Do you want to take photos? pleas answer with Y or N!n\n",
            "Your total bill is $12\n"
          ]
        }
      ]
    },
    {
      "cell_type": "markdown",
      "source": [
        "# Love Calculator"
      ],
      "metadata": {
        "id": "ogKhR0W-4W9X"
      }
    },
    {
      "cell_type": "code",
      "source": [
        "love_param = [\"TRUE\",\"LOVE\"]\n",
        "name1 = str(input(\"Please input your name! \").upper())\n",
        "name2 = str(input(\"Please input your partner name! \").upper())\n",
        "combine = name1 + name2\n",
        "res1 = 0\n",
        "res2 = 0\n",
        "\n",
        "for name in combine :\n",
        "  for love in love_param[0] :\n",
        "    if name == love :\n",
        "      res1 += 1\n",
        "\n",
        "for name in combine :\n",
        "  for love in love_param[1] :\n",
        "    if name == love :\n",
        "      res2 += 1\n",
        "\n",
        "love_scores = int(str(res1) + str(res2))\n",
        "if love_scores < 10 or love_scores > 90 :\n",
        "  print(f\"Your score is {love_scores}, you go together like coke and mentos.\")\n",
        "elif 40<love_scores<50 :\n",
        "  print(f\"Your score is {love_scores}, you are alright together.\")\n",
        "else :\n",
        "  print(f\"Your score is {love_scores}.\")"
      ],
      "metadata": {
        "colab": {
          "base_uri": "https://localhost:8080/"
        },
        "id": "s-fQNn1V4ZmI",
        "outputId": "1adbb40c-ea86-4e58-c5b2-fe2c6eb42a06"
      },
      "execution_count": null,
      "outputs": [
        {
          "output_type": "stream",
          "name": "stdout",
          "text": [
            "Please input your name! Angela Yu\n",
            "Please input your partner name! Jack Baure\n",
            "Your score is 53.\n"
          ]
        }
      ]
    },
    {
      "cell_type": "markdown",
      "source": [
        "# Treasure Island"
      ],
      "metadata": {
        "id": "jE9T6_ys_CFQ"
      }
    },
    {
      "cell_type": "code",
      "source": [
        "direction = input(\"Welcome to Treasure Island.\\n\" +\n",
        "                  \"Your mission is to find teh treasure. \\n\" +\n",
        "                  \"Please choose direction! left or right -> \").lower()\n",
        "if direction == \"left\" :\n",
        "  activity = input(\"Please choose your activity! wait or run -> \").lower()\n",
        "  if activity == \"wait\" :\n",
        "    door = input(\"Which door? red, yellow, or blue -> y\").lower()\n",
        "    if door == \"red\" :\n",
        "      print(\"Burned by fire Game Over\")\n",
        "    elif door == \"yellow\" :\n",
        "      print(\"You Win!\")\n",
        "    elif door == \"blue\" :\n",
        "      print(\"Eaten by beasts. Game Over\")\n",
        "    else : \n",
        "      print(\"Game Over.\")\n",
        "  else :\n",
        "    print(\"Attacked by trout. Game Over.\")\n",
        "else :\n",
        "  print(\"Fall into a hole. Game Over.\")"
      ],
      "metadata": {
        "colab": {
          "base_uri": "https://localhost:8080/"
        },
        "id": "HCplaQya_EAX",
        "outputId": "4110edeb-0ec4-4533-a1de-4a2a7402dbcd"
      },
      "execution_count": 36,
      "outputs": [
        {
          "output_type": "stream",
          "name": "stdout",
          "text": [
            "Welcome to Treasure Island.\n",
            "Your mission is to find teh treasure. \n",
            "Please choose direction! left or right -> left\n",
            "Please choose your activity! wait or run -> wait\n",
            "Which door? red, yellow, or blue -> yellow\n",
            "You Win!\n"
          ]
        }
      ]
    }
  ]
}