{
  "nbformat": 4,
  "nbformat_minor": 0,
  "metadata": {
    "colab": {
      "provenance": [],
      "authorship_tag": "ABX9TyOO2ocjNB0kOckrxL+xXrca",
      "include_colab_link": true
    },
    "kernelspec": {
      "name": "python3",
      "display_name": "Python 3"
    },
    "language_info": {
      "name": "python"
    }
  },
  "cells": [
    {
      "cell_type": "markdown",
      "metadata": {
        "id": "view-in-github",
        "colab_type": "text"
      },
      "source": [
        "<a href=\"https://colab.research.google.com/github/Frisca-paf/100DaysOfCode_with_Python/blob/main/Day2.ipynb\" target=\"_parent\"><img src=\"https://colab.research.google.com/assets/colab-badge.svg\" alt=\"Open In Colab\"/></a>"
      ]
    },
    {
      "cell_type": "markdown",
      "source": [
        "# Making Calculator Tip"
      ],
      "metadata": {
        "id": "gMK-FpcdJSQB"
      }
    },
    {
      "cell_type": "code",
      "execution_count": null,
      "metadata": {
        "id": "_CgeO0YfJH12"
      },
      "outputs": [],
      "source": [
        "print(\"Welcome to the tip calculator.\")\n",
        "total_bill = input(\"What was the total bill? $\")\n",
        "percentage_tip = input(\"What percentage tip would you lik to give? 10, 12, or 15? \")\n",
        "total_tip = 1 + (float(percentage_tip) / 100)\n",
        "people = input(\"How many people to split bill? \")\n",
        "calculation = round(((int(total_bill) / int(people)) * total_tip), 2)\n",
        "print(f\"Each person should pay : {calculation}\")\n"
      ]
    }
  ]
}